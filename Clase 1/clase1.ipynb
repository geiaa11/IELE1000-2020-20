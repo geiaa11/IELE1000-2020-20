{
 "metadata": {
  "language_info": {
   "codemirror_mode": {
    "name": "ipython",
    "version": 3
   },
   "file_extension": ".py",
   "mimetype": "text/x-python",
   "name": "python",
   "nbconvert_exporter": "python",
   "pygments_lexer": "ipython3",
   "version": "3.8.5-final"
  },
  "orig_nbformat": 2,
  "kernelspec": {
   "name": "python38564bite2a252c9eb4b400fb1ac16b081c6768f",
   "display_name": "Python 3.8.5 64-bit"
  }
 },
 "nbformat": 4,
 "nbformat_minor": 2,
 "cells": [
  {
   "cell_type": "markdown",
   "metadata": {},
   "source": [
    "# Introducción a la programación en Python - Tutorial 1\n",
    "## Usando Python como calculadora\n",
    "### Operaciones simples: suma (+), resta (-), multiplicación (*), división (/)"
   ]
  },
  {
   "cell_type": "code",
   "execution_count": 1,
   "metadata": {
    "tags": []
   },
   "outputs": [
    {
     "output_type": "stream",
     "name": "stdout",
     "text": "Ejemplo 1: 4\nEjemplo 2: 20\nEjemplo 3: 5.0\nEjemplo 4: 1.6\n"
    }
   ],
   "source": [
    "print('Ejemplo 1:', 2 + 2)\n",
    "print('Ejemplo 2:', 50 - 5*6)\n",
    "print('Ejemplo 3:', (50 - 5*6)/4)\n",
    "print('Ejemplo 4:', 8/5)"
   ]
  },
  {
   "cell_type": "markdown",
   "metadata": {},
   "source": [
    "Note que la división (/) siempre retorna un número decimal (tipo $float$). Si queremos un resultado entero podemos emplear la división entera (//) o el comando $int()$"
   ]
  },
  {
   "cell_type": "code",
   "execution_count": 2,
   "metadata": {
    "tags": []
   },
   "outputs": [
    {
     "output_type": "stream",
     "name": "stdout",
     "text": "Resultado tipo float: 2.0\nResultado entero: 2\nResultado entero: 2\n"
    }
   ],
   "source": [
    "print('Resultado tipo float:', 2/1)\n",
    "print('Resultado entero:', 2//1)\n",
    "print('Resultado entero:', int(2/1))"
   ]
  },
  {
   "cell_type": "markdown",
   "metadata": {},
   "source": [
    "Otra operación útil relacionada con la división es (%), la cual permite retornar el residuo de la división entera, e.g.,"
   ]
  },
  {
   "cell_type": "code",
   "execution_count": 3,
   "metadata": {
    "tags": []
   },
   "outputs": [
    {
     "output_type": "execute_result",
     "data": {
      "text/plain": "1"
     },
     "metadata": {},
     "execution_count": 3
    }
   ],
   "source": [
    "7 % 3"
   ]
  },
  {
   "cell_type": "markdown",
   "metadata": {},
   "source": [
    "Otra operación que resulta útil es (**), la cual permite elevar un número a una potencia dada, e.g.,"
   ]
  },
  {
   "cell_type": "code",
   "execution_count": 4,
   "metadata": {},
   "outputs": [
    {
     "output_type": "execute_result",
     "data": {
      "text/plain": "16"
     },
     "metadata": {},
     "execution_count": 4
    }
   ],
   "source": [
    "2**4"
   ]
  },
  {
   "cell_type": "markdown",
   "metadata": {},
   "source": [
    "Adicionalmente, podemos guardar el resultado de una operación en una variable usando (=)"
   ]
  },
  {
   "cell_type": "code",
   "execution_count": 5,
   "metadata": {
    "tags": []
   },
   "outputs": [
    {
     "output_type": "stream",
     "name": "stdout",
     "text": "4\n"
    }
   ],
   "source": [
    "a = 2 * 2\n",
    "print(a)"
   ]
  },
  {
   "cell_type": "markdown",
   "metadata": {},
   "source": [
    "De igual forma, podemos ejecutar operaciones directamente sobre las variables:"
   ]
  },
  {
   "cell_type": "code",
   "execution_count": 6,
   "metadata": {
    "tags": []
   },
   "outputs": [
    {
     "output_type": "stream",
     "name": "stdout",
     "text": "600.0\n"
    }
   ],
   "source": [
    "a = 4\n",
    "b = 5*a\n",
    "c = 100*(a + b)/a\n",
    "print(c)"
   ]
  },
  {
   "cell_type": "markdown",
   "metadata": {},
   "source": [
    "Si tratamos de llamar una variable no definida entonces Python retorna el siguiente error:"
   ]
  },
  {
   "cell_type": "code",
   "execution_count": 7,
   "metadata": {},
   "outputs": [
    {
     "output_type": "error",
     "ename": "NameError",
     "evalue": "name 'n' is not defined",
     "traceback": [
      "\u001b[1;31m---------------------------------------------------------------------------\u001b[0m",
      "\u001b[1;31mNameError\u001b[0m                                 Traceback (most recent call last)",
      "\u001b[1;32m<ipython-input-7-ab0680a89434>\u001b[0m in \u001b[0;36m<module>\u001b[1;34m\u001b[0m\n\u001b[1;32m----> 1\u001b[1;33m \u001b[0mn\u001b[0m\u001b[1;33m\u001b[0m\u001b[1;33m\u001b[0m\u001b[0m\n\u001b[0m",
      "\u001b[1;31mNameError\u001b[0m: name 'n' is not defined"
     ]
    }
   ],
   "source": [
    "n"
   ]
  },
  {
   "cell_type": "markdown",
   "metadata": {},
   "source": [
    "## Manejo de variables tipo $String$\n",
    "Para almacenar un $String$ podemos emplear los comandos (' ') o (\" \")"
   ]
  },
  {
   "cell_type": "code",
   "execution_count": 8,
   "metadata": {
    "tags": []
   },
   "outputs": [
    {
     "output_type": "stream",
     "name": "stdout",
     "text": "hola mundo 1\nhola mundo 2\n"
    }
   ],
   "source": [
    "string1 = 'hola mundo 1'\n",
    "string2 = \"hola mundo 2\"\n",
    "\n",
    "print(string1)\n",
    "print(string2)"
   ]
  },
  {
   "cell_type": "markdown",
   "metadata": {},
   "source": [
    "Las variables $String$ pueden concatenarse usando (+)"
   ]
  },
  {
   "cell_type": "code",
   "execution_count": 9,
   "metadata": {
    "tags": []
   },
   "outputs": [
    {
     "output_type": "stream",
     "name": "stdout",
     "text": "hola mundo\n"
    }
   ],
   "source": [
    "a = 'hola'\n",
    "b = ' '\n",
    "c = 'mundo'\n",
    "print(a + b + c)"
   ]
  },
  {
   "cell_type": "markdown",
   "metadata": {},
   "source": [
    "También es posible extraer caracteres de un $String$ (note que los índices comienzan en 0)"
   ]
  },
  {
   "cell_type": "code",
   "execution_count": 10,
   "metadata": {
    "tags": []
   },
   "outputs": [
    {
     "output_type": "stream",
     "name": "stdout",
     "text": "I\nE\nL\nE\n1\n2\n3\n4\n"
    }
   ],
   "source": [
    "s = 'IELE1234'\n",
    "print(s[0])\n",
    "print(s[1])\n",
    "print(s[2])\n",
    "print(s[3])\n",
    "print(s[4])\n",
    "print(s[5])\n",
    "print(s[6])\n",
    "print(s[7])"
   ]
  },
  {
   "cell_type": "markdown",
   "metadata": {},
   "source": [
    "Podemos extraer múltiples caracteres a la vez:"
   ]
  },
  {
   "cell_type": "code",
   "execution_count": 11,
   "metadata": {
    "tags": []
   },
   "outputs": [
    {
     "output_type": "stream",
     "name": "stdout",
     "text": "IELE\n"
    }
   ],
   "source": [
    "s = 'IELE1234'\n",
    "s1 = s[0:4]\n",
    "print(s1)"
   ]
  },
  {
   "cell_type": "code",
   "execution_count": 12,
   "metadata": {
    "tags": []
   },
   "outputs": [
    {
     "output_type": "stream",
     "name": "stdout",
     "text": "IELE1000\n"
    }
   ],
   "source": [
    "s1 = 'IELE1234'\n",
    "s2 = '1000'\n",
    "s3 = s1[:4] + s2\n",
    "print(s3)"
   ]
  },
  {
   "cell_type": "markdown",
   "metadata": {},
   "source": [
    "Finalmente, podemos obtener la longitud de una variable tipo $String$ usando el comando $len()$"
   ]
  },
  {
   "cell_type": "code",
   "execution_count": 13,
   "metadata": {},
   "outputs": [
    {
     "output_type": "execute_result",
     "data": {
      "text/plain": "24"
     },
     "metadata": {},
     "execution_count": 13
    }
   ],
   "source": [
    "s = 'Universidad de los Andes'\n",
    "len(s)"
   ]
  },
  {
   "cell_type": "markdown",
   "metadata": {},
   "source": [
    "## Manejo de listas\n",
    "Uno de los tipos de variables (estructuras de datos) más usadas en Python son las listas"
   ]
  },
  {
   "cell_type": "code",
   "execution_count": 14,
   "metadata": {
    "tags": []
   },
   "outputs": [
    {
     "output_type": "stream",
     "name": "stdout",
     "text": "[1, 2, 3, 4]\n<class 'list'>\n"
    }
   ],
   "source": [
    "a = [1, 2, 3, 4]\n",
    "print(a)\n",
    "print(type(a))"
   ]
  },
  {
   "cell_type": "markdown",
   "metadata": {},
   "source": [
    "Las listas se indexan de forma similar a las variables tipo $String$"
   ]
  },
  {
   "cell_type": "code",
   "execution_count": 15,
   "metadata": {
    "tags": []
   },
   "outputs": [
    {
     "output_type": "stream",
     "name": "stdout",
     "text": "1\n2\n5\n4\n[1, 2, 3, 4]\n[2, 3]\n"
    }
   ],
   "source": [
    "a = [1, 2, 3, 4, 5]\n",
    "print(a[0])\n",
    "print(a[1])\n",
    "print(a[-1])\n",
    "print(a[-2])\n",
    "print(a[:-1])\n",
    "print(a[1:3])"
   ]
  },
  {
   "cell_type": "markdown",
   "metadata": {},
   "source": [
    "También podemos usar el comando $len()$ para obtener la longitud de una lista"
   ]
  },
  {
   "cell_type": "code",
   "execution_count": 16,
   "metadata": {
    "tags": []
   },
   "outputs": [
    {
     "output_type": "stream",
     "name": "stdout",
     "text": "['i', 'e', 'le', 1, 0, 0, 0]\n7\n"
    }
   ],
   "source": [
    "lista1 = ['i', 'e', 'le', 1, 0, 0, 0]\n",
    "print(lista1)\n",
    "print(len(lista1))"
   ]
  },
  {
   "cell_type": "markdown",
   "metadata": {},
   "source": [
    "Similar a las variables tipo $String$, podemos emplear (+) para concatenar listas"
   ]
  },
  {
   "cell_type": "code",
   "execution_count": 17,
   "metadata": {
    "tags": []
   },
   "outputs": [
    {
     "output_type": "stream",
     "name": "stdout",
     "text": "[1, 2, 3, 4, 11, 12, 13, 14]\n"
    }
   ],
   "source": [
    "l1 = [1, 2, 3, 4]\n",
    "l2 = [11, 12, 13, 14]\n",
    "print(l1 + l2)"
   ]
  },
  {
   "cell_type": "markdown",
   "metadata": {},
   "source": [
    "Partiendo de una lista dada, es posible modificar sus elementos y/o agregar elementos nuevos:"
   ]
  },
  {
   "cell_type": "code",
   "execution_count": 18,
   "metadata": {
    "tags": []
   },
   "outputs": [
    {
     "output_type": "stream",
     "name": "stdout",
     "text": "['IELE1000', 'Semestre 2020-10']\n['IELE1000', 'Semestre 2020-20']\n['IELE1000', 'Semestre 2020-20', 'Universidad de los Andes']\n"
    }
   ],
   "source": [
    "lista = ['IELE1000', 'Semestre 2020-10']\n",
    "print(lista)\n",
    "\n",
    "lista[1] = 'Semestre 2020-20'\n",
    "print(lista)\n",
    "\n",
    "lista.append('Universidad de los Andes')\n",
    "print(lista)"
   ]
  },
  {
   "cell_type": "markdown",
   "metadata": {},
   "source": [
    "Para crear una lista vacia usamos []"
   ]
  },
  {
   "cell_type": "code",
   "execution_count": 19,
   "metadata": {
    "tags": []
   },
   "outputs": [
    {
     "output_type": "stream",
     "name": "stdout",
     "text": "[]\n[1, 2, 'elemento']\n"
    }
   ],
   "source": [
    "lista = []\n",
    "print(lista)\n",
    "\n",
    "lista.append(1)\n",
    "lista.append(2)\n",
    "lista.append('elemento')\n",
    "print(lista)"
   ]
  },
  {
   "cell_type": "markdown",
   "metadata": {},
   "source": [
    "Finalmente, también es posible crear listas de listas:"
   ]
  },
  {
   "cell_type": "code",
   "execution_count": 20,
   "metadata": {
    "tags": []
   },
   "outputs": [
    {
     "output_type": "stream",
     "name": "stdout",
     "text": "[[1, 2, 3], [4, 5, 6]]\n[1, 2, 3]\n2\n"
    }
   ],
   "source": [
    "sublista1 = [1, 2, 3]\n",
    "sublista2 = [4, 5, 6]\n",
    "lista = [sublista1, sublista2]\n",
    "\n",
    "print(lista)\n",
    "print(lista[0])\n",
    "print(lista[0][1])"
   ]
  },
  {
   "cell_type": "markdown",
   "metadata": {},
   "source": [
    "## Diccionarios en Python\n",
    "Otra estructura de datos importante en Python son los diccionarios."
   ]
  },
  {
   "cell_type": "code",
   "execution_count": 21,
   "metadata": {
    "tags": []
   },
   "outputs": [
    {
     "output_type": "stream",
     "name": "stdout",
     "text": "{}\n<class 'dict'>\n"
    }
   ],
   "source": [
    "d = {}\n",
    "\n",
    "print(d)\n",
    "print(type(d))"
   ]
  },
  {
   "cell_type": "markdown",
   "metadata": {},
   "source": [
    "Los diccionarios nos permiten almacenar información indexada por \"llaves\" (keys)"
   ]
  },
  {
   "cell_type": "code",
   "execution_count": 22,
   "metadata": {
    "tags": []
   },
   "outputs": [
    {
     "output_type": "stream",
     "name": "stdout",
     "text": "{'nombre': 'juan pablo', 'edad': 25}\ndict_keys(['nombre', 'edad'])\n"
    }
   ],
   "source": [
    "d = {}\n",
    "d['nombre'] = 'juan pablo'\n",
    "d['edad'] = 25\n",
    "\n",
    "print(d)\n",
    "print(d.keys())"
   ]
  },
  {
   "cell_type": "markdown",
   "metadata": {},
   "source": [
    "## Funciones en Python (métodos)\n",
    "Para finalizar este tutorial, veamos como podemos definir funciones en Python. Las funciones nos permiten \"reutilizar\" código sin necesidad de escribirlo múltiples veces."
   ]
  },
  {
   "cell_type": "code",
   "execution_count": 23,
   "metadata": {
    "tags": []
   },
   "outputs": [
    {
     "output_type": "stream",
     "name": "stdout",
     "text": "3\n9\n"
    }
   ],
   "source": [
    "def suma(a, b):\n",
    "    return a + b\n",
    "\n",
    "s1 = suma(1, 2)\n",
    "print(s1)\n",
    "\n",
    "s2 = suma(5, 4)\n",
    "print(s2)"
   ]
  },
  {
   "cell_type": "markdown",
   "metadata": {},
   "source": [
    "Las funciones pueden ser mucho más elaboradas:"
   ]
  },
  {
   "cell_type": "code",
   "execution_count": 24,
   "metadata": {
    "tags": []
   },
   "outputs": [
    {
     "output_type": "stream",
     "name": "stdout",
     "text": "{'nombre': 'juan'}\n{'nombre': 'juan', 'appelido': 'martinez'}\n"
    }
   ],
   "source": [
    "def adicionar_elemento_a_diccionario(diccionario, llave, valor):\n",
    "    diccionario[llave] = valor\n",
    "    return diccionario\n",
    "\n",
    "d = {}\n",
    "\n",
    "d = adicionar_elemento_a_diccionario(d, 'nombre', 'juan')\n",
    "print(d) \n",
    "\n",
    "d = adicionar_elemento_a_diccionario(d, 'apellido', 'martinez')\n",
    "print(d)"
   ]
  },
  {
   "cell_type": "markdown",
   "metadata": {},
   "source": [
    "# EJERCICIO EN GRUPOS:\n",
    "\n",
    "Desarrollar el siguiente ejercicio en grupos de 3 ó 4 estudiantes:\n",
    "\n",
    "* (1) Programe una función en Python que calcule (aproximadamente) el número de días que ha vivido una persona dada su edad en años. Es decir, la función debe tomar como argumento la edad en años de la persona y retornar el número de días que esa persona ha vivido.\n",
    "\n",
    "* (2) Construya un diccionario que almacene listas (una para cada compañero de su grupo). Las llaves deben ser los nombres de sus compañeros de grupo, y cada lista debe contener: nombre, edad en años, edad en dias, ciudad de nacimiento, y algún dato curioso del compañero/a.\n",
    "\n",
    "## Numeral adicional (una vez haya completado los numerales (1) y (2))\n",
    "* (3) Modifique la función programada en (1) para que, tomando argumentos adicionales, e.g., mes y dia de nacimiento, calcule la edad en dias con mayor exactitud!\n",
    "\n",
    "\n"
   ]
  }
 ]
}