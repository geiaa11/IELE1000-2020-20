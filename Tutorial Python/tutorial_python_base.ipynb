{
 "metadata": {
  "language_info": {
   "codemirror_mode": {
    "name": "ipython",
    "version": 3
   },
   "file_extension": ".py",
   "mimetype": "text/x-python",
   "name": "python",
   "nbconvert_exporter": "python",
   "pygments_lexer": "ipython3",
   "version": "3.8.5-final"
  },
  "orig_nbformat": 2,
  "kernelspec": {
   "name": "python38564bite2a252c9eb4b400fb1ac16b081c6768f",
   "display_name": "Python 3.8.5 64-bit"
  }
 },
 "nbformat": 4,
 "nbformat_minor": 2,
 "cells": [
  {
   "cell_type": "markdown",
   "metadata": {},
   "source": [
    "# Introducción a la programación en Python - Tutorial bases de Python\n",
    "## Usando Python como calculadora\n",
    "### Operaciones simples: suma (+), resta (-), multiplicación (*), división (/)"
   ]
  },
  {
   "cell_type": "code",
   "execution_count": 1,
   "metadata": {
    "tags": []
   },
   "outputs": [
    {
     "output_type": "stream",
     "name": "stdout",
     "text": "Ejemplo 1: 4\nEjemplo 2: 20\nEjemplo 3: 5.0\nEjemplo 4: 1.6\n"
    }
   ],
   "source": [
    "print('Ejemplo 1:', 2 + 2)\n",
    "print('Ejemplo 2:', 50 - 5*6)\n",
    "print('Ejemplo 3:', (50 - 5*6)/4)\n",
    "print('Ejemplo 4:', 8/5)"
   ]
  },
  {
   "cell_type": "markdown",
   "metadata": {},
   "source": [
    "Note que la división (/) siempre retorna un número decimal (tipo $float$). Si queremos un resultado entero podemos emplear la división entera (//) o el comando $int()$"
   ]
  },
  {
   "cell_type": "code",
   "execution_count": 2,
   "metadata": {
    "tags": []
   },
   "outputs": [
    {
     "output_type": "stream",
     "name": "stdout",
     "text": "Resultado tipo float: 2.0\nResultado entero: 2\nResultado entero: 2\n"
    }
   ],
   "source": [
    "print('Resultado tipo float:', 2/1)\n",
    "print('Resultado entero:', 2//1)\n",
    "print('Resultado entero:', int(2/1))"
   ]
  },
  {
   "cell_type": "markdown",
   "metadata": {},
   "source": [
    "Otra operación útil relacionada con la división es (%), la cual permite retornar el residuo de la división entera, e.g.,"
   ]
  },
  {
   "cell_type": "code",
   "execution_count": 3,
   "metadata": {
    "tags": []
   },
   "outputs": [
    {
     "output_type": "execute_result",
     "data": {
      "text/plain": "1"
     },
     "metadata": {},
     "execution_count": 3
    }
   ],
   "source": [
    "7 % 3"
   ]
  },
  {
   "cell_type": "markdown",
   "metadata": {},
   "source": [
    "Otra operación que resulta útil es (**), la cual permite elevar un número a una potencia dada, e.g.,"
   ]
  },
  {
   "cell_type": "code",
   "execution_count": 4,
   "metadata": {},
   "outputs": [
    {
     "output_type": "execute_result",
     "data": {
      "text/plain": "16"
     },
     "metadata": {},
     "execution_count": 4
    }
   ],
   "source": [
    "2**4"
   ]
  },
  {
   "cell_type": "markdown",
   "metadata": {},
   "source": [
    "Adicionalmente, podemos guardar el resultado de una operación en una variable usando (=)"
   ]
  },
  {
   "cell_type": "code",
   "execution_count": 5,
   "metadata": {
    "tags": []
   },
   "outputs": [
    {
     "output_type": "stream",
     "name": "stdout",
     "text": "4\n"
    }
   ],
   "source": [
    "a = 2 * 2\n",
    "print(a)"
   ]
  },
  {
   "cell_type": "markdown",
   "metadata": {},
   "source": [
    "De igual forma, podemos ejecutar operaciones directamente sobre las variables:"
   ]
  },
  {
   "cell_type": "code",
   "execution_count": 6,
   "metadata": {
    "tags": []
   },
   "outputs": [
    {
     "output_type": "stream",
     "name": "stdout",
     "text": "600.0\n"
    }
   ],
   "source": [
    "a = 4\n",
    "b = 5*a\n",
    "c = 100*(a + b)/a\n",
    "print(c)"
   ]
  },
  {
   "cell_type": "markdown",
   "metadata": {},
   "source": [
    "Si tratamos de llamar una variable no definida entonces Python retorna el siguiente error:"
   ]
  },
  {
   "cell_type": "code",
   "execution_count": 7,
   "metadata": {},
   "outputs": [
    {
     "output_type": "error",
     "ename": "NameError",
     "evalue": "name 'n' is not defined",
     "traceback": [
      "\u001b[1;31m---------------------------------------------------------------------------\u001b[0m",
      "\u001b[1;31mNameError\u001b[0m                                 Traceback (most recent call last)",
      "\u001b[1;32m<ipython-input-7-ab0680a89434>\u001b[0m in \u001b[0;36m<module>\u001b[1;34m\u001b[0m\n\u001b[1;32m----> 1\u001b[1;33m \u001b[0mn\u001b[0m\u001b[1;33m\u001b[0m\u001b[1;33m\u001b[0m\u001b[0m\n\u001b[0m",
      "\u001b[1;31mNameError\u001b[0m: name 'n' is not defined"
     ]
    }
   ],
   "source": [
    "n"
   ]
  },
  {
   "cell_type": "markdown",
   "metadata": {},
   "source": [
    "## Manejo de variables tipo $String$\n",
    "Para almacenar un $String$ podemos emplear los comandos (' ') o (\" \")"
   ]
  },
  {
   "cell_type": "code",
   "execution_count": 8,
   "metadata": {
    "tags": []
   },
   "outputs": [
    {
     "output_type": "stream",
     "name": "stdout",
     "text": "hola mundo 1\nhola mundo 2\n"
    }
   ],
   "source": [
    "string1 = 'hola mundo 1'\n",
    "string2 = \"hola mundo 2\"\n",
    "\n",
    "print(string1)\n",
    "print(string2)"
   ]
  },
  {
   "cell_type": "markdown",
   "metadata": {},
   "source": [
    "Las variables $String$ pueden concatenarse usando (+)"
   ]
  },
  {
   "cell_type": "code",
   "execution_count": 9,
   "metadata": {
    "tags": []
   },
   "outputs": [
    {
     "output_type": "stream",
     "name": "stdout",
     "text": "hola mundo\n"
    }
   ],
   "source": [
    "a = 'hola'\n",
    "b = ' '\n",
    "c = 'mundo'\n",
    "print(a + b + c)"
   ]
  },
  {
   "cell_type": "markdown",
   "metadata": {},
   "source": [
    "También es posible extraer caracteres de un $String$ (note que los índices comienzan en 0)"
   ]
  },
  {
   "cell_type": "code",
   "execution_count": 10,
   "metadata": {
    "tags": []
   },
   "outputs": [
    {
     "output_type": "stream",
     "name": "stdout",
     "text": "I\nE\nL\nE\n1\n2\n3\n4\n"
    }
   ],
   "source": [
    "s = 'IELE1234'\n",
    "print(s[0])\n",
    "print(s[1])\n",
    "print(s[2])\n",
    "print(s[3])\n",
    "print(s[4])\n",
    "print(s[5])\n",
    "print(s[6])\n",
    "print(s[7])"
   ]
  },
  {
   "cell_type": "markdown",
   "metadata": {},
   "source": [
    "Podemos extraer múltiples caracteres a la vez:"
   ]
  },
  {
   "cell_type": "code",
   "execution_count": 11,
   "metadata": {
    "tags": []
   },
   "outputs": [
    {
     "output_type": "stream",
     "name": "stdout",
     "text": "IELE\n"
    }
   ],
   "source": [
    "s = 'IELE1234'\n",
    "s1 = s[0:4]\n",
    "print(s1)"
   ]
  },
  {
   "cell_type": "code",
   "execution_count": 12,
   "metadata": {
    "tags": []
   },
   "outputs": [
    {
     "output_type": "stream",
     "name": "stdout",
     "text": "IELE1000\n"
    }
   ],
   "source": [
    "s1 = 'IELE1234'\n",
    "s2 = '1000'\n",
    "s3 = s1[:4] + s2\n",
    "print(s3)"
   ]
  },
  {
   "cell_type": "markdown",
   "metadata": {},
   "source": [
    "Finalmente, podemos obtener la longitud de una variable tipo $String$ usando el comando $len()$"
   ]
  },
  {
   "cell_type": "code",
   "execution_count": 13,
   "metadata": {},
   "outputs": [
    {
     "output_type": "execute_result",
     "data": {
      "text/plain": "24"
     },
     "metadata": {},
     "execution_count": 13
    }
   ],
   "source": [
    "s = 'Universidad de los Andes'\n",
    "len(s)"
   ]
  },
  {
   "cell_type": "markdown",
   "metadata": {},
   "source": [
    "## Manejo de listas\n",
    "Uno de los tipos de variables (estructuras de datos) más usadas en Python son las listas"
   ]
  },
  {
   "cell_type": "code",
   "execution_count": 14,
   "metadata": {
    "tags": []
   },
   "outputs": [
    {
     "output_type": "stream",
     "name": "stdout",
     "text": "[1, 2, 3, 4]\n<class 'list'>\n"
    }
   ],
   "source": [
    "a = [1, 2, 3, 4]\n",
    "print(a)\n",
    "print(type(a))"
   ]
  },
  {
   "cell_type": "markdown",
   "metadata": {},
   "source": [
    "Las listas se indexan de forma similar a las variables tipo $String$"
   ]
  },
  {
   "cell_type": "code",
   "execution_count": 15,
   "metadata": {
    "tags": []
   },
   "outputs": [
    {
     "output_type": "stream",
     "name": "stdout",
     "text": "1\n2\n5\n4\n[1, 2, 3, 4]\n[2, 3]\n"
    }
   ],
   "source": [
    "a = [1, 2, 3, 4, 5]\n",
    "print(a[0])\n",
    "print(a[1])\n",
    "print(a[-1])\n",
    "print(a[-2])\n",
    "print(a[:-1])\n",
    "print(a[1:3])"
   ]
  },
  {
   "cell_type": "markdown",
   "metadata": {},
   "source": [
    "También podemos usar el comando $len()$ para obtener la longitud de una lista"
   ]
  },
  {
   "cell_type": "code",
   "execution_count": 16,
   "metadata": {
    "tags": []
   },
   "outputs": [
    {
     "output_type": "stream",
     "name": "stdout",
     "text": "['i', 'e', 'le', 1, 0, 0, 0]\n7\n"
    }
   ],
   "source": [
    "lista1 = ['i', 'e', 'le', 1, 0, 0, 0]\n",
    "print(lista1)\n",
    "print(len(lista1))"
   ]
  },
  {
   "cell_type": "markdown",
   "metadata": {},
   "source": [
    "Similar a las variables tipo $String$, podemos emplear (+) para concatenar listas"
   ]
  },
  {
   "cell_type": "code",
   "execution_count": 17,
   "metadata": {
    "tags": []
   },
   "outputs": [
    {
     "output_type": "stream",
     "name": "stdout",
     "text": "[1, 2, 3, 4, 11, 12, 13, 14]\n"
    }
   ],
   "source": [
    "l1 = [1, 2, 3, 4]\n",
    "l2 = [11, 12, 13, 14]\n",
    "print(l1 + l2)"
   ]
  },
  {
   "cell_type": "markdown",
   "metadata": {},
   "source": [
    "Partiendo de una lista dada, es posible modificar sus elementos y/o agregar elementos nuevos:"
   ]
  },
  {
   "cell_type": "code",
   "execution_count": 18,
   "metadata": {
    "tags": []
   },
   "outputs": [
    {
     "output_type": "stream",
     "name": "stdout",
     "text": "['IELE1000', 'Semestre 2020-10']\n['IELE1000', 'Semestre 2020-20']\n['IELE1000', 'Semestre 2020-20', 'Universidad de los Andes']\n"
    }
   ],
   "source": [
    "lista = ['IELE1000', 'Semestre 2020-10']\n",
    "print(lista)\n",
    "\n",
    "lista[1] = 'Semestre 2020-20'\n",
    "print(lista)\n",
    "\n",
    "lista.append('Universidad de los Andes')\n",
    "print(lista)"
   ]
  },
  {
   "cell_type": "markdown",
   "metadata": {},
   "source": [
    "Para crear una lista vacia usamos []"
   ]
  },
  {
   "cell_type": "code",
   "execution_count": 19,
   "metadata": {
    "tags": []
   },
   "outputs": [
    {
     "output_type": "stream",
     "name": "stdout",
     "text": "[]\n[1, 2, 'elemento']\n"
    }
   ],
   "source": [
    "lista = []\n",
    "print(lista)\n",
    "\n",
    "lista.append(1)\n",
    "lista.append(2)\n",
    "lista.append('elemento')\n",
    "print(lista)"
   ]
  },
  {
   "cell_type": "markdown",
   "metadata": {},
   "source": [
    "Finalmente, también es posible crear listas de listas:"
   ]
  },
  {
   "cell_type": "code",
   "execution_count": 20,
   "metadata": {
    "tags": []
   },
   "outputs": [
    {
     "output_type": "stream",
     "name": "stdout",
     "text": "[[1, 2, 3], [4, 5, 6]]\n[1, 2, 3]\n2\n"
    }
   ],
   "source": [
    "sublista1 = [1, 2, 3]\n",
    "sublista2 = [4, 5, 6]\n",
    "lista = [sublista1, sublista2]\n",
    "\n",
    "print(lista)\n",
    "print(lista[0])\n",
    "print(lista[0][1])"
   ]
  },
  {
   "cell_type": "markdown",
   "metadata": {},
   "source": [
    "## Diccionarios en Python\n",
    "Otra estructura de datos importante en Python son los diccionarios."
   ]
  },
  {
   "cell_type": "code",
   "execution_count": 21,
   "metadata": {
    "tags": []
   },
   "outputs": [
    {
     "output_type": "stream",
     "name": "stdout",
     "text": "{}\n<class 'dict'>\n"
    }
   ],
   "source": [
    "d = {}\n",
    "\n",
    "print(d)\n",
    "print(type(d))"
   ]
  },
  {
   "cell_type": "markdown",
   "metadata": {},
   "source": [
    "Los diccionarios nos permiten almacenar información indexada por \"llaves\" (keys)"
   ]
  },
  {
   "cell_type": "code",
   "execution_count": 22,
   "metadata": {
    "tags": []
   },
   "outputs": [
    {
     "output_type": "stream",
     "name": "stdout",
     "text": "{'nombre': 'juan pablo', 'edad': 25}\ndict_keys(['nombre', 'edad'])\n"
    }
   ],
   "source": [
    "d = {}\n",
    "d['nombre'] = 'juan pablo'\n",
    "d['edad'] = 25\n",
    "\n",
    "print(d)\n",
    "print(d.keys())"
   ]
  },
  {
   "cell_type": "markdown",
   "metadata": {},
   "source": [
    "## Funciones en Python (métodos)\n",
    "Para finalizar este tutorial, veamos como podemos definir funciones en Python. Las funciones nos permiten \"reutilizar\" código sin necesidad de escribirlo múltiples veces."
   ]
  },
  {
   "cell_type": "code",
   "execution_count": 23,
   "metadata": {
    "tags": []
   },
   "outputs": [
    {
     "output_type": "stream",
     "name": "stdout",
     "text": "3\n9\n"
    }
   ],
   "source": [
    "def suma(a, b):\n",
    "    return a + b\n",
    "\n",
    "s1 = suma(1, 2)\n",
    "print(s1)\n",
    "\n",
    "s2 = suma(5, 4)\n",
    "print(s2)"
   ]
  },
  {
   "cell_type": "markdown",
   "metadata": {},
   "source": [
    "Las funciones pueden ser mucho más elaboradas:"
   ]
  },
  {
   "cell_type": "code",
   "execution_count": 24,
   "metadata": {
    "tags": []
   },
   "outputs": [
    {
     "output_type": "stream",
     "name": "stdout",
     "text": "{'nombre': 'juan'}\n{'nombre': 'juan', 'apellido': 'martinez'}\n"
    }
   ],
   "source": [
    "def adicionar_elemento_a_diccionario(diccionario, llave, valor):\n",
    "    diccionario[llave] = valor\n",
    "    return diccionario\n",
    "\n",
    "d = {}\n",
    "\n",
    "d = adicionar_elemento_a_diccionario(d, 'nombre', 'juan')\n",
    "print(d) \n",
    "\n",
    "d = adicionar_elemento_a_diccionario(d, 'apellido', 'martinez')\n",
    "print(d)"
   ]
  },
  {
   "cell_type": "markdown",
   "metadata": {},
   "source": [
    "## Control de flujo del programa\n",
    "En Python (y en muchos otros lenguajes de programación) existen varias formas de controlar el flujo de las instrucciones que ejecuta nuestro programa.\n",
    "\n",
    "Por ejemplo, si queremos ejecutar instrucciones dadas ciertas condiciones, entonces podemos emplear el control $if$"
   ]
  },
  {
   "cell_type": "code",
   "execution_count": 25,
   "metadata": {
    "tags": []
   },
   "outputs": [
    {
     "output_type": "stream",
     "name": "stdout",
     "text": "El número a es menor que 5\n"
    }
   ],
   "source": [
    "a = 2\n",
    "\n",
    "if a >= 5:\n",
    "    print('El número a es mayor o igual a 5')\n",
    "else:\n",
    "    print('El número a es menor que 5')"
   ]
  },
  {
   "cell_type": "markdown",
   "metadata": {},
   "source": [
    "Las condiciones pueden tener más de dos casos."
   ]
  },
  {
   "cell_type": "code",
   "execution_count": 26,
   "metadata": {
    "tags": []
   },
   "outputs": [
    {
     "output_type": "stream",
     "name": "stdout",
     "text": "El número b = 10 está en el intervalo [10, 20]\n"
    }
   ],
   "source": [
    "b = 10\n",
    "\n",
    "if b > 20:\n",
    "    print('El número b =', b, 'es mayor que 20')\n",
    "elif 10 <= b <= 20:\n",
    "    print('El número b =', b, 'está en el intervalo [10, 20]')\n",
    "elif 5 <= b < 10:\n",
    "    print('El número b =', b, 'está en el intervalo [5, 10)')\n",
    "else:\n",
    "    print('El número b =', b, 'es menor que 5')"
   ]
  },
  {
   "cell_type": "markdown",
   "metadata": {},
   "source": [
    "Al trabajar con condicionales sobre números podemos emplear los operadores lógicos (<), (>), (<=), (>=), (==), (!=). Estos operadores retornan variables tipo $bool$, i.e., True o False."
   ]
  },
  {
   "cell_type": "code",
   "execution_count": 27,
   "metadata": {
    "tags": []
   },
   "outputs": [
    {
     "output_type": "stream",
     "name": "stdout",
     "text": "a = 1 b = 2\na < b  ---> True\na > b  ---> False\na <= b ---> True\na >= b ---> False\na == b ---> False\na != b ---> True\n"
    }
   ],
   "source": [
    "a = 1\n",
    "b = 2\n",
    "\n",
    "print('a =', a, 'b =', b)\n",
    "print('a < b  --->', a < b)\n",
    "print('a > b  --->', a > b)\n",
    "print('a <= b --->', a <= b)\n",
    "print('a >= b --->', a >= b)\n",
    "print('a == b --->', a == b)\n",
    "print('a != b --->', a != b)"
   ]
  },
  {
   "cell_type": "markdown",
   "metadata": {},
   "source": [
    "Los condicionales tambien sirven para comparar otros tipos de variables. Sin embargo, hay que entender bien su funcionamiento para cada tipo de variable."
   ]
  },
  {
   "cell_type": "code",
   "execution_count": 28,
   "metadata": {},
   "outputs": [
    {
     "output_type": "execute_result",
     "data": {
      "text/plain": "False"
     },
     "metadata": {},
     "execution_count": 28
    }
   ],
   "source": [
    "l1 = ['a', 1, 2]\n",
    "l2 = ['b', 1, 2]\n",
    "\n",
    "l1 == l2"
   ]
  },
  {
   "cell_type": "markdown",
   "metadata": {},
   "source": [
    "Dos de las estructuras de control más usadas en programación son $for$ y $while$. Estas nos permiten hacer recorridos y ciclos sobre instrucciones determinadas."
   ]
  },
  {
   "cell_type": "code",
   "execution_count": 29,
   "metadata": {
    "tags": []
   },
   "outputs": [
    {
     "output_type": "stream",
     "name": "stdout",
     "text": "0\n1\n2\n3\n4\n5\n6\n7\n8\n9\n"
    }
   ],
   "source": [
    "for i in range(10):\n",
    "    print(i)"
   ]
  },
  {
   "cell_type": "code",
   "execution_count": 30,
   "metadata": {
    "tags": []
   },
   "outputs": [
    {
     "output_type": "stream",
     "name": "stdout",
     "text": "0\n1\n2\n3\n4\n5\n6\n7\n8\n9\n"
    }
   ],
   "source": [
    "i = 0\n",
    "while i < 10:\n",
    "    print(i)\n",
    "    i += 1"
   ]
  },
  {
   "cell_type": "markdown",
   "metadata": {},
   "source": [
    "Los recorridos $for$ nos permiten también recorrer elementos iterables, e.g., listas, strings, etc."
   ]
  },
  {
   "cell_type": "code",
   "execution_count": 31,
   "metadata": {
    "tags": []
   },
   "outputs": [
    {
     "output_type": "stream",
     "name": "stdout",
     "text": "hola\nclase\nde\nIELE1000\n"
    }
   ],
   "source": [
    "lista = ['hola', 'clase', 'de', 'IELE1000']\n",
    "\n",
    "for elemento in lista:\n",
    "    print(elemento)"
   ]
  },
  {
   "cell_type": "code",
   "execution_count": 32,
   "metadata": {
    "tags": []
   },
   "outputs": [
    {
     "output_type": "stream",
     "name": "stdout",
     "text": "u\nn\ni\nv\ne\nr\ns\ni\nd\na\nd\n"
    }
   ],
   "source": [
    "palabra = 'universidad'\n",
    "for letra in palabra:\n",
    "    print(letra)"
   ]
  },
  {
   "cell_type": "markdown",
   "metadata": {},
   "source": [
    "Una forma alternativa de hacer el recorrido anterior es usando $len()$"
   ]
  },
  {
   "cell_type": "code",
   "execution_count": 33,
   "metadata": {
    "tags": []
   },
   "outputs": [
    {
     "output_type": "stream",
     "name": "stdout",
     "text": "u\nn\ni\nv\ne\nr\ns\ni\nd\na\nd\n"
    }
   ],
   "source": [
    "palabra = 'universidad'\n",
    "for i in range(len(palabra)):\n",
    "    print(palabra[i])"
   ]
  },
  {
   "cell_type": "markdown",
   "metadata": {},
   "source": [
    "Si queremos recorrer los elementos de un elemento iterable, y queremos adicionalmente obtener los índices de cada elemento, entonces podemos usar la función $enumerate()$"
   ]
  },
  {
   "cell_type": "code",
   "execution_count": 34,
   "metadata": {
    "tags": []
   },
   "outputs": [
    {
     "output_type": "stream",
     "name": "stdout",
     "text": "juan está en el índice número 0\nlaura está en el índice número 1\nfelipe está en el índice número 2\ncamila está en el índice número 3\n"
    }
   ],
   "source": [
    "lista = ['juan', 'laura', 'felipe', 'camila']\n",
    "\n",
    "for indice, nombre in enumerate(lista):\n",
    "    print(nombre, 'está en el índice número', indice)"
   ]
  },
  {
   "cell_type": "markdown",
   "metadata": {},
   "source": [
    "Esto es una forma compacta equivalente a:"
   ]
  },
  {
   "cell_type": "code",
   "execution_count": 35,
   "metadata": {
    "tags": []
   },
   "outputs": [
    {
     "output_type": "stream",
     "name": "stdout",
     "text": "juan está en el índice número 0\nlaura está en el índice número 1\nfelipe está en el índice número 2\ncamila está en el índice número 3\n"
    }
   ],
   "source": [
    "lista = ['juan', 'laura', 'felipe', 'camila']\n",
    "\n",
    "for indice in range(len(lista)):\n",
    "    print(lista[indice], 'está en el índice número', indice)\n"
   ]
  },
  {
   "cell_type": "markdown",
   "metadata": {},
   "source": [
    "También es posible \"anidar\" los distintos mecanismos de control para poder ejecutar instrucciones más complejas."
   ]
  },
  {
   "cell_type": "code",
   "execution_count": 36,
   "metadata": {
    "tags": []
   },
   "outputs": [
    {
     "output_type": "stream",
     "name": "stdout",
     "text": "El elemento 10 es mayor que 3\nEl elemento 2 es menor o igual a 3\nEl elemento 1 es menor o igual a 3\nEl elemento 4 es mayor que 3\nEl elemento 20 es mayor que 3\nEl elemento 3 es menor o igual a 3\n"
    }
   ],
   "source": [
    "a = [10, 2, 1, 4, 20, 3]\n",
    "\n",
    "for e in a:\n",
    "    if(e <= 3):\n",
    "        print('El elemento', e, 'es menor o igual a 3')\n",
    "    else:\n",
    "        print('El elemento', e, 'es mayor que 3')\n"
   ]
  },
  {
   "cell_type": "code",
   "execution_count": 37,
   "metadata": {
    "tags": []
   },
   "outputs": [
    {
     "output_type": "stream",
     "name": "stdout",
     "text": "0 0\n0 1\n0 2\n0 3\n1 0\n1 1\n1 2\n1 3\n2 0\n2 1\n2 2\n2 3\n"
    }
   ],
   "source": [
    "for i in range(3):\n",
    "    for j in range(4):\n",
    "        print(i, j)"
   ]
  },
  {
   "cell_type": "markdown",
   "metadata": {},
   "source": [
    "Para interrumpir un recorrido o ciclo podemos emplear la instrucción $break$. Esta instrucción interrumpe el flujo de control en el que se encuentra."
   ]
  },
  {
   "cell_type": "code",
   "execution_count": 38,
   "metadata": {
    "tags": []
   },
   "outputs": [
    {
     "output_type": "stream",
     "name": "stdout",
     "text": "0\n1\n2\n3\n4\n5\n"
    }
   ],
   "source": [
    "for i in range(10):\n",
    "    print(i)\n",
    "    if i >= 5:\n",
    "        break"
   ]
  },
  {
   "cell_type": "code",
   "execution_count": 39,
   "metadata": {
    "tags": []
   },
   "outputs": [
    {
     "output_type": "stream",
     "name": "stdout",
     "text": "0 0\n0 1\n0 2\n0 3\n1 0\n2 0\n3 0\n"
    }
   ],
   "source": [
    "for i in range(4):\n",
    "    for j in range(4):\n",
    "        print(i, j)\n",
    "        if i >= 1:\n",
    "            break"
   ]
  },
  {
   "cell_type": "markdown",
   "metadata": {},
   "source": [
    "En contraste, la instrucción $continue$ nos permite saltar a la siguiente iteración del ciclo o recorrido."
   ]
  },
  {
   "cell_type": "code",
   "execution_count": 40,
   "metadata": {
    "tags": []
   },
   "outputs": [
    {
     "output_type": "stream",
     "name": "stdout",
     "text": "0\n1\n2\n3\n4\n"
    }
   ],
   "source": [
    "for i in range(10):\n",
    "    if i >= 5:\n",
    "        continue\n",
    "    print(i)"
   ]
  },
  {
   "cell_type": "markdown",
   "metadata": {},
   "source": [
    "La instrucción $pass$, por otro lado, no hace nada y puede ser usada es para respetar la indentación del código."
   ]
  },
  {
   "cell_type": "code",
   "execution_count": 41,
   "metadata": {
    "tags": []
   },
   "outputs": [
    {
     "output_type": "stream",
     "name": "stdout",
     "text": "0\n1\n2\n3\n4\n5\n6\n7\n8\n9\n"
    }
   ],
   "source": [
    "for i in range(10):\n",
    "    if i >= 5:\n",
    "        pass\n",
    "    print(i)"
   ]
  },
  {
   "cell_type": "markdown",
   "metadata": {},
   "source": [
    "# EJERCICIO EN GRUPOS:\n",
    "\n",
    "Desarrollar los siguientes ejercicios en grupos de 3 ó 4 estudiantes:\n",
    "\n",
    "* (1) Construya un diccionario que almacene listas (una para cada compañero de su grupo). La llave de cada lista debe ser el primer nombre del compañero/a correspondiente. Adicionalmente, cada lista debe contener la siguiente información referente al compañero/a de grupo: edad en años, código estudiantil, apellido, y algún dato curioso del compañero/a.\n",
    "* (2) Entre todos los integrantes del grupo deben programar una función que recorra el diccionario y retorne el nombre del compañero/a con más años.\n",
    "* (3) Entre todos los integrantes del grupo deben programar una función que recorra el diccionario y retorne el nombre del compañero/a con el menor código.\n",
    "* (4) Entre todos los integrantes del grupo deben programar una función que recorra el diccionario y retorne el nombre del compañero/a con el apellido con más letras.\n",
    "* (5) Entre todos los integrantes del grupo deben programar una función que pueda ejecutar todas las funciones de los puntos (2)-(4). Más precisamente, esta función debe tomar un argumento adicional para determinar cual de las tres funciones debe ejecutar.\n",
    "\n",
    "## Ejercicio adicional:\n",
    "Entre todos los integrantes del grupo programen una función que cada vez que la ejecuten retorne el nombre y dato curioso de alguno de los compañeros/as seleccionado/a de manera (pseudo) aleatoria. Como ayuda, en la siguiente celda se muestra el código para generar un número entero aleatorio entre 0 y 4.\n"
   ]
  },
  {
   "cell_type": "code",
   "execution_count": 42,
   "metadata": {
    "tags": []
   },
   "outputs": [
    {
     "output_type": "stream",
     "name": "stdout",
     "text": "4\n"
    }
   ],
   "source": [
    "import random\n",
    "a = random.randint(0, 4)\n",
    "print(a)"
   ]
  }
 ]
}