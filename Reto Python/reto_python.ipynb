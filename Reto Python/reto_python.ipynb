{
 "metadata": {
  "language_info": {
   "codemirror_mode": {
    "name": "ipython",
    "version": 3
   },
   "file_extension": ".py",
   "mimetype": "text/x-python",
   "name": "python",
   "nbconvert_exporter": "python",
   "pygments_lexer": "ipython3",
   "version": "3.8.5-final"
  },
  "orig_nbformat": 2,
  "kernelspec": {
   "name": "python38564bite2a252c9eb4b400fb1ac16b081c6768f",
   "display_name": "Python 3.8.5 64-bit"
  }
 },
 "nbformat": 4,
 "nbformat_minor": 2,
 "cells": [
  {
   "cell_type": "markdown",
   "metadata": {},
   "source": [
    "# Reto de programación en Python"
   ]
  },
  {
   "cell_type": "markdown",
   "metadata": {},
   "source": [
    "# Parte 1"
   ]
  },
  {
   "cell_type": "markdown",
   "metadata": {},
   "source": [
    "## Ejercicio 1\n",
    "\n",
    "Defina una función que determine si un número entero $a$ es par o impar, donde $a$ es dado como entrada a la función. La función debe imprimir un mensaje mostrando el número $a$ y diciendo si es par o impar. **Restricción:** no se puede emplear la operación modulo (%)."
   ]
  },
  {
   "cell_type": "code",
   "execution_count": 1,
   "metadata": {
    "tags": []
   },
   "outputs": [],
   "source": [
    "def detector_de_numeros_pares(a):\n",
    "    pass"
   ]
  },
  {
   "cell_type": "code",
   "execution_count": 2,
   "metadata": {
    "tags": []
   },
   "outputs": [
    {
     "output_type": "stream",
     "name": "stdout",
     "text": "El número 1 es impar!\nEl número 4 es par!\nEl número 11 es impar!\nEl número -8 es par!\n"
    }
   ],
   "source": [
    "# Ejemplos de resultados de la función:\n",
    "detector_de_numeros_pares(1)\n",
    "detector_de_numeros_pares(4)\n",
    "detector_de_numeros_pares(11)\n",
    "detector_de_numeros_pares(-8)"
   ]
  },
  {
   "cell_type": "markdown",
   "metadata": {},
   "source": [
    "## Ejercicio 2\n",
    "Defina una función que imprima un mensaje diciendo si un número entero $a$ es divisible entre otro número entero $b$, donde $a$ y $b$ son números enteros mayores a $0$ dados como entrada a la función. Si $a$ es divisible entre $b$, entonces la función debe imprimir el mensaje: \"El número a = ?? es divisible entre el número b = ?? y el resultado es a/b = ??\", donde (??) debe ser remplazado por los valores correspondientes en cada caso. De lo contrario, la función debe imprimir el mensaje: \"El número a = ?? no es divisible entre el número b = ??\". **Restricción:** no se puede usar la operación modulo (%). **Pista:** este ejercicio es una generalización del ejercicio 1."
   ]
  },
  {
   "cell_type": "code",
   "execution_count": 3,
   "metadata": {
    "tags": []
   },
   "outputs": [],
   "source": [
    "def determinar_divisor(a, b):\n",
    "    pass"
   ]
  },
  {
   "cell_type": "code",
   "execution_count": 4,
   "metadata": {
    "tags": []
   },
   "outputs": [
    {
     "output_type": "stream",
     "name": "stdout",
     "text": "El número a = 10 es divisible entre el número b = 2 y el resultado es a/b = 5.0\nEl número a = 7 no es divisible entre el número b = 3\nEl número a = 5 es divisible entre el número b = 1 y el resultado es a/b = 5.0\n"
    }
   ],
   "source": [
    "# Ejemplos de resultados de la función:\n",
    "determinar_divisor(10, 2)\n",
    "determinar_divisor(7, 3)\n",
    "determinar_divisor(5, 1)"
   ]
  },
  {
   "cell_type": "markdown",
   "metadata": {},
   "source": [
    "## Ejercicio 3\n",
    "Considere la secuencia de Fibonacci dada por: $0$, $1$, $1$, $2$, $3$, $5$, $8$, $13$, $21$, $34$, $55$, ... Defina una función en Python que imprima una lista con los primeros $n$ términos de la secuencia de Fibonnacci, donde $n$ es un número entero mayor a $2$ dado como entrada a la función.\n"
   ]
  },
  {
   "cell_type": "code",
   "execution_count": 5,
   "metadata": {
    "tags": []
   },
   "outputs": [],
   "source": [
    "def fibonacci(n):\n",
    "    pass"
   ]
  },
  {
   "cell_type": "code",
   "execution_count": 6,
   "metadata": {
    "tags": []
   },
   "outputs": [
    {
     "output_type": "stream",
     "name": "stdout",
     "text": "[0, 1, 1]\n[0, 1, 1, 2, 3, 5, 8]\n[0, 1, 1, 2, 3, 5, 8, 13, 21, 34, 55, 89, 144, 233]\n[0, 1, 1, 2, 3, 5, 8, 13, 21, 34, 55, 89, 144, 233, 377, 610, 987, 1597, 2584, 4181, 6765, 10946, 17711, 28657, 46368, 75025, 121393, 196418, 317811, 514229]\n"
    }
   ],
   "source": [
    "# Ejemplos de resultados de la función:\n",
    "fibonacci(3)\n",
    "fibonacci(7)\n",
    "fibonacci(14)\n",
    "fibonacci(30)"
   ]
  },
  {
   "cell_type": "markdown",
   "metadata": {},
   "source": [
    "## Ejercicio 4\n",
    "Cree una lista que contenga los nombres de sus compañeros de grupo junto con el suyo. Posteriormente, defina una función que imprima una nueva lista en la que cada nombre se repita un número $n$ de veces pero se conserve el orden de nombres de la lista original ($n$ es un número entero mayor o igual a $1$ dado como entrada a la función).\n",
    "\n",
    "**Ejemplo:** Sea $[\\text{juan, laura, felipe, camila}]$ la lista de nombres. Si a la función se le da como entrada el número $n=3$, entonces la función debe imprimir la lista:\n",
    "$[\\text{juan, juan, juan, laura, laura, laura, felipe, felipe, felipe, camila, camila, camila}]$\n"
   ]
  },
  {
   "cell_type": "code",
   "execution_count": 7,
   "metadata": {
    "tags": []
   },
   "outputs": [],
   "source": [
    "def replicar_lista(lista, n):\n",
    "    pass"
   ]
  },
  {
   "cell_type": "code",
   "execution_count": 8,
   "metadata": {
    "tags": []
   },
   "outputs": [
    {
     "output_type": "stream",
     "name": "stdout",
     "text": "['juan', 'laura', 'felipe', 'camila']\n['juan', 'juan', 'juan', 'laura', 'laura', 'laura', 'felipe', 'felipe', 'felipe', 'camila', 'camila', 'camila']\n['juan', 'juan', 'juan', 'juan', 'juan', 'laura', 'laura', 'laura', 'laura', 'laura', 'felipe', 'felipe', 'felipe', 'felipe', 'felipe', 'camila', 'camila', 'camila', 'camila', 'camila']\n"
    }
   ],
   "source": [
    "# Ejemplos de resultados de la función:\n",
    "lista = ['juan', 'laura', 'felipe', 'camila']\n",
    "replicar_lista(lista, 1)\n",
    "replicar_lista(lista, 3)\n",
    "replicar_lista(lista, 5)"
   ]
  },
  {
   "cell_type": "markdown",
   "metadata": {},
   "source": [
    "# Parte 2"
   ]
  },
  {
   "cell_type": "markdown",
   "metadata": {},
   "source": [
    "## Ejercicio 5\n",
    "Defina una función que tome como entrada un número entero $a>1$ y determine si $a$ es un número primo. **Ayuda:** un número primo es un número entero mayor a $1$ que sólo es divisible entre $1$ y entre si mismo."
   ]
  },
  {
   "cell_type": "code",
   "execution_count": 9,
   "metadata": {
    "tags": []
   },
   "outputs": [],
   "source": [
    "def detector_de_primos(a):\n",
    "    pass       "
   ]
  },
  {
   "cell_type": "code",
   "execution_count": 10,
   "metadata": {
    "tags": []
   },
   "outputs": [
    {
     "output_type": "stream",
     "name": "stdout",
     "text": "El número a = 2 es primo!\nEl número a = 7 es primo!\nEl número a = 8 no es primo!\nEl número a = 77 no es primo!\n"
    }
   ],
   "source": [
    "# Ejemplos de resultados de la función:\n",
    "detector_de_primos(2)\n",
    "detector_de_primos(7)\n",
    "detector_de_primos(8)\n",
    "detector_de_primos(77)"
   ]
  },
  {
   "cell_type": "markdown",
   "metadata": {},
   "source": [
    "## Ejercicio 6\n",
    "Defina una función que tome como entrada la siguiente información correspondiente a la fecha actual y a la fecha de cumpleaños de una persona dada: número del mes actual, número del día actual, número del mes de nacimiento, y número del día de nacimiento. La función debe operar de la siguiente forma:\n",
    "\n",
    "* Si el cumpleaños de la persona ya pasó, entonces la función debe imprimir el número de días que han pasado desde el cumpleaños de la persona.\n",
    "* Por otro lado, si el cumpleaños aún no ha pasado, entonces la función debe imprimir el número de días que faltan para el cumpleaños de la persona.\n",
    "\n",
    "**Ayuda:** Recuerde que este año febrero tuvo 29 días. Por otro lado, para la númeración de los meses use: enero=0, febrero=1, ..., diciembre=11.\n"
   ]
  },
  {
   "cell_type": "code",
   "execution_count": 11,
   "metadata": {},
   "outputs": [],
   "source": [
    "def retornar_dias_cumple(mes_actual, dia_actual, mes_nacimiento, dia_nacimiento):\n",
    "    pass\n"
   ]
  },
  {
   "cell_type": "code",
   "execution_count": 12,
   "metadata": {
    "tags": []
   },
   "outputs": [
    {
     "output_type": "stream",
     "name": "stdout",
     "text": "Han pasado 31 días desde el cumpleaños!\nFaltan 45 días para el cumpleaños!\nFaltan 4 días para el cumpleaños!\nHan pasado 11 días desde el cumpleaños!\nFaltan 0 días para el cumpleaños!\n"
    }
   ],
   "source": [
    "# Ejemplos de resultados de la función:\n",
    "retornar_dias_cumple(7, 26, 6, 26)  # Fecha actual: 26 de agosto, Fecha cumpleaños: 26 de julio\n",
    "retornar_dias_cumple(7, 26, 9, 10)  # Fecha actual: 26 de agosto, Fecha cumpleaños: 10 de noviembre\n",
    "retornar_dias_cumple(7, 26, 7, 30)  # Fecha actual: 26 de agosto, Fecha cumpleaños: 30 de agosto \n",
    "retornar_dias_cumple(7, 26, 7, 15)  # Fecha actual: 26 de agosto, Fecha cumpleaños: 15 de agosto\n",
    "retornar_dias_cumple(7, 26, 7, 26)  # Fecha actual: 26 de agosto, Fecha cumpleaños: 26 de agosto\n"
   ]
  }
 ]
}